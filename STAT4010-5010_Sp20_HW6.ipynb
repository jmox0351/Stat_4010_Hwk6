{
 "cells": [
  {
   "cell_type": "markdown",
   "metadata": {
    "deletable": false,
    "editable": false,
    "nbgrader": {
     "cell_type": "markdown",
     "checksum": "5d042106fab8c146e042be9c079e5aa4",
     "grade": false,
     "grade_id": "cell-2a8b6e96f4404a65",
     "locked": true,
     "schema_version": 3,
     "solution": false,
     "task": false
    }
   },
   "source": [
    "# Homework #6\n",
    "\n",
    "**See Canvas for HW #6 assignment due date**. Complete all of the following problems. Ideally, the theoretical problems should be answered in a Markdown cell directly underneath the question. If you don't know LaTex/Markdown, you may submit separate handwritten solutions to the theoretical problems. Please do not turn in messy work. Computational problems should be completed in this notebook (using the R kernel is preferred). Computational questions may require code, plots, analysis, interpretation, etc. Working in small groups is allowed, but it is important that you make an effort to master the material and hand in your own work. \n",
    "\n"
   ]
  },
  {
   "cell_type": "markdown",
   "metadata": {
    "deletable": false,
    "editable": false,
    "nbgrader": {
     "cell_type": "markdown",
     "checksum": "889b7205d3b70ef0d561cf6199d4a771",
     "grade": false,
     "grade_id": "cell-690073cfc39a9520",
     "locked": true,
     "schema_version": 3,
     "solution": false,
     "task": false
    }
   },
   "source": [
    "## A. Theoretical Problems"
   ]
  },
  {
   "cell_type": "markdown",
   "metadata": {
    "deletable": false,
    "editable": false,
    "nbgrader": {
     "cell_type": "markdown",
     "checksum": "2530a6025ba90884fc763c69c7d9946f",
     "grade": false,
     "grade_id": "cell-5307db19de40055e",
     "locked": true,
     "schema_version": 3,
     "solution": false,
     "task": false
    }
   },
   "source": [
    "### Problem A.1\n",
    "\n",
    "Describe why, in a randomized complete block design (RCBD), it is not possible to test whether interactions exist between the treatment and blocks."
   ]
  },
  {
   "cell_type": "markdown",
   "metadata": {
    "deletable": false,
    "nbgrader": {
     "cell_type": "markdown",
     "checksum": "8a4ac8fcb1787409a56e1d045a6ae4d4",
     "grade": true,
     "grade_id": "cell-55b1995bce55ac0e",
     "locked": false,
     "points": 1,
     "schema_version": 3,
     "solution": true,
     "task": false
    }
   },
   "source": [
    "In order to test for the interaction between treatments and blocks we would need replication which in it's simpliest form RCBD does not use. In particular without replication there all of the degrees of freedom are used for the model fit, which means that, regardless of whether there is an interaction term or not it will appear to be 0. Instead RCBD lets us test for interaction beforehand by using an interaction plot and seeing if the slopes are the same or nearly the same. If this is the case then the model assumptions are met and RCBD may be a good fit.\n",
    "\n",
    "http://pages.cs.wisc.edu/~songwang/RCBD.pdf"
   ]
  },
  {
   "cell_type": "markdown",
   "metadata": {
    "deletable": false,
    "editable": false,
    "nbgrader": {
     "cell_type": "markdown",
     "checksum": "f8fb79668fd86489b63722a1246578ba",
     "grade": false,
     "grade_id": "cell-614ea334d333237a",
     "locked": true,
     "schema_version": 3,
     "solution": false,
     "task": false
    }
   },
   "source": [
    "### Problem A.2\n",
    "\n",
    "This problem contains several True/False questions. **Please answer each using R code. Store your answer as a logical (either TRUE or FALSE, case sensitive) in a variable named for each part. So, for example, if part (a) were: 2+3 = 5. Your answer would be:**\n"
   ]
  },
  {
   "cell_type": "code",
   "execution_count": null,
   "metadata": {
    "deletable": false,
    "editable": false,
    "nbgrader": {
     "cell_type": "code",
     "checksum": "921e30464cfb325cce6a85e8710a45f4",
     "grade": false,
     "grade_id": "cell-4974f64b002b0d9b",
     "locked": true,
     "schema_version": 3,
     "solution": false,
     "task": false
    }
   },
   "outputs": [],
   "source": [
    "a = FALSE"
   ]
  },
  {
   "cell_type": "markdown",
   "metadata": {
    "deletable": false,
    "editable": false,
    "nbgrader": {
     "cell_type": "markdown",
     "checksum": "364e16003c510d344593cb80aa79c47f",
     "grade": false,
     "grade_id": "cell-0674200f3d5126a5",
     "locked": true,
     "schema_version": 3,
     "solution": false,
     "task": false
    }
   },
   "source": [
    "#### (a) Blocking is a technique that can be used to control the variability transmitted by uncontrolled nuisance factors in an experiment."
   ]
  },
  {
   "cell_type": "code",
   "execution_count": 7,
   "metadata": {
    "deletable": false,
    "nbgrader": {
     "cell_type": "code",
     "checksum": "8998bb65724c76081f7bf5e71c11fe91",
     "grade": false,
     "grade_id": "cell-3e8a94b356680889",
     "locked": false,
     "schema_version": 3,
     "solution": true,
     "task": false
    }
   },
   "outputs": [],
   "source": [
    "a = FALSE #need to be controllable so we can ensure blocks are populated in a random manner"
   ]
  },
  {
   "cell_type": "code",
   "execution_count": null,
   "metadata": {
    "deletable": false,
    "editable": false,
    "nbgrader": {
     "cell_type": "code",
     "checksum": "a2cb00448529e6b8148fc0b3a55d6daf",
     "grade": true,
     "grade_id": "cell-f2fa5abeb5c54a7e",
     "locked": true,
     "points": 1,
     "schema_version": 3,
     "solution": false,
     "task": false
    }
   },
   "outputs": [],
   "source": []
  },
  {
   "cell_type": "markdown",
   "metadata": {
    "deletable": false,
    "editable": false,
    "nbgrader": {
     "cell_type": "markdown",
     "checksum": "6025e0d098d34d97b638761f910f07b9",
     "grade": false,
     "grade_id": "cell-de40b0387622dddc",
     "locked": true,
     "schema_version": 3,
     "solution": false,
     "task": false
    }
   },
   "source": [
    "#### (b) The number of blocks in a randomized complete block design cannot be equal to the number of treatment levels."
   ]
  },
  {
   "cell_type": "code",
   "execution_count": 8,
   "metadata": {
    "deletable": false,
    "nbgrader": {
     "cell_type": "code",
     "checksum": "83ee44e9c3940a3c32d128d3c6ad6c61",
     "grade": false,
     "grade_id": "cell-d7dacedbab351c50",
     "locked": false,
     "schema_version": 3,
     "solution": true,
     "task": false
    }
   },
   "outputs": [],
   "source": [
    "b = FALSE #ex. 4 different social media platforms with 4 different ad campagins would be a valid model"
   ]
  },
  {
   "cell_type": "code",
   "execution_count": null,
   "metadata": {
    "deletable": false,
    "editable": false,
    "nbgrader": {
     "cell_type": "code",
     "checksum": "bf4e5d8c5894f7e5555808a5dd1a5bd4",
     "grade": true,
     "grade_id": "cell-e3bb17a12bba9eba",
     "locked": true,
     "points": 1,
     "schema_version": 3,
     "solution": false,
     "task": false
    }
   },
   "outputs": [],
   "source": []
  },
  {
   "cell_type": "markdown",
   "metadata": {
    "deletable": false,
    "editable": false,
    "nbgrader": {
     "cell_type": "markdown",
     "checksum": "3508b75fa6ed08aa5e7804408792ff02",
     "grade": false,
     "grade_id": "cell-9a98452883a544ce",
     "locked": true,
     "schema_version": 3,
     "solution": false,
     "task": false
    }
   },
   "source": [
    "#### (c) Consider the plot on the left in this [link](https://statmodeling.stat.columbia.edu/wp-content/uploads/2020/03/Screen-Shot-2020-03-15-at-5.45.37-PM.png). There is not a substantial interaction between age group and political party. (This [video](https://www.youtube.com/watch?v=JTm739f5hQs) might be a helpful resource.)"
   ]
  },
  {
   "cell_type": "code",
   "execution_count": 9,
   "metadata": {
    "deletable": false,
    "nbgrader": {
     "cell_type": "code",
     "checksum": "83ff08545bc8e84910253ba89b4cc1fa",
     "grade": false,
     "grade_id": "cell-e9328e9871931ee8",
     "locked": false,
     "schema_version": 3,
     "solution": true,
     "task": false
    }
   },
   "outputs": [],
   "source": [
    "c = FALSE #slopes are unequal"
   ]
  },
  {
   "cell_type": "code",
   "execution_count": null,
   "metadata": {
    "deletable": false,
    "editable": false,
    "nbgrader": {
     "cell_type": "code",
     "checksum": "353157e72e29278cb5901fbab9867ba0",
     "grade": true,
     "grade_id": "cell-420950de45669888",
     "locked": true,
     "points": 1,
     "schema_version": 3,
     "solution": false,
     "task": false
    }
   },
   "outputs": [],
   "source": []
  },
  {
   "cell_type": "markdown",
   "metadata": {
    "deletable": false,
    "editable": false,
    "nbgrader": {
     "cell_type": "markdown",
     "checksum": "bc627ca75eec4a24339ef1cfd0682697",
     "grade": false,
     "grade_id": "cell-58f0a5f4c7b41d11",
     "locked": true,
     "schema_version": 3,
     "solution": false,
     "task": false
    }
   },
   "source": [
    "#### (d) If an interaction term in a two-way ANOVA model is significant, then one should not trust the estimates or interpretations of main effects alone."
   ]
  },
  {
   "cell_type": "code",
   "execution_count": 10,
   "metadata": {
    "deletable": false,
    "nbgrader": {
     "cell_type": "code",
     "checksum": "a9112901d552ed7755823c2f40d6691d",
     "grade": false,
     "grade_id": "cell-10e44bbbd4ae6fc6",
     "locked": false,
     "schema_version": 3,
     "solution": true,
     "task": false
    }
   },
   "outputs": [],
   "source": [
    "d = TRUE #RCBD makes the assumption that this is the case if the model assumptions are violated we cannot use it"
   ]
  },
  {
   "cell_type": "code",
   "execution_count": null,
   "metadata": {
    "deletable": false,
    "editable": false,
    "nbgrader": {
     "cell_type": "code",
     "checksum": "4fdc1c1e6ec731685b48ee313259ecb0",
     "grade": true,
     "grade_id": "cell-f406c4f97cb02877",
     "locked": true,
     "points": 1,
     "schema_version": 3,
     "solution": false,
     "task": false
    }
   },
   "outputs": [],
   "source": []
  },
  {
   "cell_type": "markdown",
   "metadata": {
    "deletable": false,
    "editable": false,
    "nbgrader": {
     "cell_type": "markdown",
     "checksum": "a598e8c41f49311a32df6468bf16bf42",
     "grade": false,
     "grade_id": "cell-f723332454e1aef5",
     "locked": true,
     "schema_version": 3,
     "solution": false,
     "task": false
    }
   },
   "source": [
    "### Problem A.3 <span style=\"color: #CFB87C;\">(STAT 5010 Only)</span>\n",
    "\n",
    "Show that, for the randomized complete block design, $$SS_{total} = SS_{treat} + SS_{block} + SS_{R},$$\n",
    "\n",
    "where each of these terms is defined in the Unit #5(b) notes. "
   ]
  },
  {
   "cell_type": "markdown",
   "metadata": {
    "deletable": false,
    "nbgrader": {
     "cell_type": "markdown",
     "checksum": "559f977c4e80b32691d63ec126b5e3d9",
     "grade": true,
     "grade_id": "cell-52280dec609bd0e5",
     "locked": false,
     "points": 0,
     "schema_version": 3,
     "solution": true,
     "task": false
    }
   },
   "source": [
    "YOUR ANSWER HERE"
   ]
  },
  {
   "cell_type": "markdown",
   "metadata": {
    "deletable": false,
    "editable": false,
    "nbgrader": {
     "cell_type": "markdown",
     "checksum": "2291f152b06b78e511e14051b32327b6",
     "grade": false,
     "grade_id": "cell-cc31e1ca27288dcc",
     "locked": true,
     "schema_version": 3,
     "solution": false,
     "task": false
    }
   },
   "source": [
    "## B. Computational Problems"
   ]
  },
  {
   "cell_type": "markdown",
   "metadata": {
    "deletable": false,
    "editable": false,
    "nbgrader": {
     "cell_type": "markdown",
     "checksum": "68c27d55563040b9f5ab4e87e7b28ecf",
     "grade": false,
     "grade_id": "cell-1de351c6a8efb93d",
     "locked": true,
     "schema_version": 3,
     "solution": false,
     "task": false
    }
   },
   "source": [
    "### Problem B.1\n",
    "\n",
    "#### For the teengamb data, fit a model with gamble as the response and ${\\tt sex}$ and ${\\tt income}$ as predictors. Call the model lmod_teengamb. Investigate the possibility of statistically significant interactions between these predictors. Store your final model--the one with or without interaction terms, depending on the outcome of your investigations--as lmod_final. Interpret the final model.\n",
    "\n",
    "([Here's](https://rdrr.io/cran/faraway/man/teengamb.html) a description of the data.)"
   ]
  },
  {
   "cell_type": "code",
   "execution_count": 11,
   "metadata": {
    "deletable": false,
    "editable": false,
    "nbgrader": {
     "cell_type": "code",
     "checksum": "d880801260acfef0433be8ec012fbc4a",
     "grade": false,
     "grade_id": "cell-2960a4b4a59a4e84",
     "locked": true,
     "schema_version": 3,
     "solution": false,
     "task": false
    }
   },
   "outputs": [
    {
     "data": {
      "text/plain": [
       "      sex             status          income           verbal     \n",
       " Min.   :0.0000   Min.   :18.00   Min.   : 0.600   Min.   : 1.00  \n",
       " 1st Qu.:0.0000   1st Qu.:28.00   1st Qu.: 2.000   1st Qu.: 6.00  \n",
       " Median :0.0000   Median :43.00   Median : 3.250   Median : 7.00  \n",
       " Mean   :0.4043   Mean   :45.23   Mean   : 4.642   Mean   : 6.66  \n",
       " 3rd Qu.:1.0000   3rd Qu.:61.50   3rd Qu.: 6.210   3rd Qu.: 8.00  \n",
       " Max.   :1.0000   Max.   :75.00   Max.   :15.000   Max.   :10.00  \n",
       "     gamble     \n",
       " Min.   :  0.0  \n",
       " 1st Qu.:  1.1  \n",
       " Median :  6.0  \n",
       " Mean   : 19.3  \n",
       " 3rd Qu.: 19.4  \n",
       " Max.   :156.0  "
      ]
     },
     "metadata": {},
     "output_type": "display_data"
    }
   ],
   "source": [
    "teengamb = read.table(\"https://www.colorado.edu/amath/sites/default/files/attached-files/teengamb.txt\", \n",
    "          sep = \"\\t\", header = TRUE)\n",
    "\n",
    "summary(teengamb)"
   ]
  },
  {
   "cell_type": "code",
   "execution_count": 17,
   "metadata": {
    "deletable": false,
    "nbgrader": {
     "cell_type": "code",
     "checksum": "6965653c2b3785b71df2429e873499c8",
     "grade": false,
     "grade_id": "cell-851b18d000ab8f22",
     "locked": false,
     "schema_version": 3,
     "solution": true,
     "task": false
    }
   },
   "outputs": [
    {
     "name": "stderr",
     "output_type": "stream",
     "text": [
      "The following `from` values were not present in `x`: 0, 1\n"
     ]
    },
    {
     "data": {
      "image/png": "[encoded data removed]",
      "text/plain": [
       "plot without title"
      ]
     },
     "metadata": {},
     "output_type": "display_data"
    }
   ],
   "source": [
    "library(tidyverse)\n",
    "library(plyr)\n",
    "teengamb$sex = mapvalues(teengamb$sex, c(0,1), c('male', 'female'))\n",
    "qplot(data = teengamb, x = income, y=gamble, color = sex) + geom_smooth(method = 'lm')"
   ]
  },
  {
   "cell_type": "code",
   "execution_count": null,
   "metadata": {
    "deletable": false,
    "editable": false,
    "nbgrader": {
     "cell_type": "code",
     "checksum": "1ca063ee47551b08403bd816c1bd2be2",
     "grade": true,
     "grade_id": "cell-d69861a00a30104e",
     "locked": true,
     "points": 0,
     "schema_version": 3,
     "solution": false,
     "task": false
    }
   },
   "outputs": [],
   "source": []
  },
  {
   "cell_type": "code",
   "execution_count": 18,
   "metadata": {
    "deletable": false,
    "nbgrader": {
     "cell_type": "code",
     "checksum": "0832584fd3c74b3edd4854bb88b625fa",
     "grade": false,
     "grade_id": "cell-9af1c90ebc914714",
     "locked": false,
     "schema_version": 3,
     "solution": true,
     "task": false
    }
   },
   "outputs": [
    {
     "data": {
      "text/plain": [
       "\n",
       "Call:\n",
       "lm(formula = gamble ~ income + sex, data = teengamb)\n",
       "\n",
       "Residuals:\n",
       "    Min      1Q  Median      3Q     Max \n",
       "-49.757 -11.649   0.844   8.659 100.243 \n",
       "\n",
       "Coefficients:\n",
       "            Estimate Std. Error t value Pr(>|t|)    \n",
       "(Intercept)  -17.594      6.544  -2.688  0.01010 *  \n",
       "income         5.172      0.951   5.438 2.24e-06 ***\n",
       "sexmale       21.634      6.809   3.177  0.00272 ** \n",
       "---\n",
       "Signif. codes:  0 '***' 0.001 '**' 0.01 '*' 0.05 '.' 0.1 ' ' 1\n",
       "\n",
       "Residual standard error: 22.75 on 44 degrees of freedom\n",
       "Multiple R-squared:  0.5014,\tAdjusted R-squared:  0.4787 \n",
       "F-statistic: 22.12 on 2 and 44 DF,  p-value: 2.243e-07\n"
      ]
     },
     "metadata": {},
     "output_type": "display_data"
    }
   ],
   "source": [
    "lmod_teengamb = lm(data = teengamb, gamble ~ income + sex)\n",
    "summary(lmod_teengamb)"
   ]
  },
  {
   "cell_type": "code",
   "execution_count": 21,
   "metadata": {
    "deletable": false,
    "nbgrader": {
     "cell_type": "code",
     "checksum": "a4866caa23fc7130193dab0fce603930",
     "grade": false,
     "grade_id": "cell-b83e3d3ef6664c54",
     "locked": false,
     "schema_version": 3,
     "solution": true,
     "task": false
    }
   },
   "outputs": [
    {
     "data": {
      "text/plain": [
       "\n",
       "Call:\n",
       "lm(formula = gamble ~ income + sex + income:sex, data = teengamb)\n",
       "\n",
       "Residuals:\n",
       "    Min      1Q  Median      3Q     Max \n",
       "-56.522  -4.860  -1.790   6.273  93.478 \n",
       "\n",
       "Coefficients:\n",
       "               Estimate Std. Error t value Pr(>|t|)   \n",
       "(Intercept)      3.1400     9.2492   0.339  0.73590   \n",
       "income           0.1749     1.9034   0.092  0.92721   \n",
       "sexmale         -5.7996    11.2003  -0.518  0.60724   \n",
       "income:sexmale   6.3432     2.1446   2.958  0.00502 **\n",
       "---\n",
       "Signif. codes:  0 '***' 0.001 '**' 0.01 '*' 0.05 '.' 0.1 ' ' 1\n",
       "\n",
       "Residual standard error: 20.98 on 43 degrees of freedom\n",
       "Multiple R-squared:  0.5857,\tAdjusted R-squared:  0.5568 \n",
       "F-statistic: 20.26 on 3 and 43 DF,  p-value: 2.451e-08\n"
      ]
     },
     "metadata": {},
     "output_type": "display_data"
    },
    {
     "data": {
      "text/html": [
       "<table>\n",
       "<thead><tr><th scope=col>Res.Df</th><th scope=col>RSS</th><th scope=col>Df</th><th scope=col>Sum of Sq</th><th scope=col>F</th><th scope=col>Pr(&gt;F)</th></tr></thead>\n",
       "<tbody>\n",
       "\t<tr><td>44         </td><td>22781.32   </td><td>NA         </td><td>      NA   </td><td>      NA   </td><td>         NA</td></tr>\n",
       "\t<tr><td>43         </td><td>18929.91   </td><td> 1         </td><td>3851.411   </td><td>8.748624   </td><td>0.005018177</td></tr>\n",
       "</tbody>\n",
       "</table>\n"
      ],
      "text/latex": [
       "\\begin{tabular}{r|llllll}\n",
       " Res.Df & RSS & Df & Sum of Sq & F & Pr(>F)\\\\\n",
       "\\hline\n",
       "\t 44          & 22781.32    & NA          &       NA    &       NA    &          NA\\\\\n",
       "\t 43          & 18929.91    &  1          & 3851.411    & 8.748624    & 0.005018177\\\\\n",
       "\\end{tabular}\n"
      ],
      "text/markdown": [
       "\n",
       "| Res.Df | RSS | Df | Sum of Sq | F | Pr(>F) |\n",
       "|---|---|---|---|---|---|\n",
       "| 44          | 22781.32    | NA          |       NA    |       NA    |          NA |\n",
       "| 43          | 18929.91    |  1          | 3851.411    | 8.748624    | 0.005018177 |\n",
       "\n"
      ],
      "text/plain": [
       "  Res.Df RSS      Df Sum of Sq F        Pr(>F)     \n",
       "1 44     22781.32 NA       NA        NA          NA\n",
       "2 43     18929.91  1 3851.411  8.748624 0.005018177"
      ]
     },
     "metadata": {},
     "output_type": "display_data"
    }
   ],
   "source": [
    "lmod_final = lm(data = teengamb, gamble ~ income + sex + income:sex)\n",
    "summary(lmod_final)\n",
    "anova(lmod_teengamb, lmod_final)"
   ]
  },
  {
   "cell_type": "markdown",
   "metadata": {},
   "source": [
    "We can see a clear dependency between income and sex as shown by the different slopes for men and women in our q-plot. We then included the interaction term in our final model and run an ANOVA to compare the model with the interaction term against the one without one. We find that the p-value for the F-test is below 0.05 so we can say at the 95% confidence level that there the interaction term should be included in the final model. When we look at the final model we see that the interaction term is actually the only one that we can say at the 95% confidence level that we should include. "
   ]
  },
  {
   "cell_type": "code",
   "execution_count": null,
   "metadata": {
    "deletable": false,
    "editable": false,
    "nbgrader": {
     "cell_type": "code",
     "checksum": "b820d2c1dfbe1aa28f6c38818557b43f",
     "grade": true,
     "grade_id": "cell-4d077074750be2cf",
     "locked": true,
     "points": 0,
     "schema_version": 3,
     "solution": false,
     "task": false
    }
   },
   "outputs": [],
   "source": []
  },
  {
   "cell_type": "markdown",
   "metadata": {
    "deletable": false,
    "editable": false,
    "nbgrader": {
     "cell_type": "markdown",
     "checksum": "bbd8a0b80282d41a919816c4f54376db",
     "grade": false,
     "grade_id": "cell-16b8ff25d1d12edd",
     "locked": true,
     "schema_version": 3,
     "solution": false,
     "task": false
    }
   },
   "source": [
    "### Problem B.2\n",
    "\n",
    "The experiment used in this problem is a modified version of the one conducted in the 2013 paper [\"Acute Effects of Warm-Up Stretch\n",
    "Protocols on Balance, Vertical Jump Height and Range of Motion in Dancers\"](https://www.ncbi.nlm.nih.gov/pubmed/23498355)\n",
    "\n",
    "(Citation: N. Morrin and E. Redding (2013). \"Acute Effects of Warm-Up Stretch\n",
    "Protocols on Balnce, Vertical Jump Height and Range of Motion in Dancers,\"\n",
    "Journal of Dance Medicine & Science, Vol. 17, #1, pp. 34-40)\n",
    "\n",
    "The research question being asked in this experiment is: Does stretching protocol impact vertical jump height? The variables measured include:\n",
    "\n",
    "1. dancer = dancer (1-10)\n",
    "\n",
    "2. stretch = stretch protocol (1=Static Stretching, 2=Dynamic Stretching, 3=Combination Stretching, 4=No Stretch)\n",
    "\n",
    "3. condition = the physical condition of the dancer (1 = less conditioned, 2 = more conditioned)\n",
    "\n",
    "4. height = vertical jump height (cm) \n",
    "\n",
    "Dancers were first sorted into a condition group, based on how much dance training that they had recently done. Then, stretching routines were randomly assigned to dancers within each condition group. In this case, condition served as the blocking variable, and stretch as the treatment variable. Vertical jump height is the response. \n",
    "\n",
    "Here's the data..."
   ]
  },
  {
   "cell_type": "code",
   "execution_count": 22,
   "metadata": {
    "deletable": false,
    "editable": false,
    "nbgrader": {
     "cell_type": "code",
     "checksum": "9b3d70bfae98a73770caf995873da86e",
     "grade": false,
     "grade_id": "cell-2ecfa6b9a519153f",
     "locked": true,
     "schema_version": 3,
     "solution": false,
     "task": false
    }
   },
   "outputs": [
    {
     "data": {
      "text/html": [
       "<table>\n",
       "<thead><tr><th scope=col>dancer</th><th scope=col>stretch</th><th scope=col>condition</th><th scope=col>height</th></tr></thead>\n",
       "<tbody>\n",
       "\t<tr><td>1    </td><td>1    </td><td>1    </td><td>32.76</td></tr>\n",
       "\t<tr><td>2    </td><td>1    </td><td>1    </td><td>32.67</td></tr>\n",
       "\t<tr><td>3    </td><td>1    </td><td>1    </td><td>23.04</td></tr>\n",
       "\t<tr><td>4    </td><td>1    </td><td>1    </td><td>45.63</td></tr>\n",
       "\t<tr><td>5    </td><td>1    </td><td>1    </td><td>29.29</td></tr>\n",
       "\t<tr><td>6    </td><td>1    </td><td>2    </td><td>28.90</td></tr>\n",
       "</tbody>\n",
       "</table>\n"
      ],
      "text/latex": [
       "\\begin{tabular}{r|llll}\n",
       " dancer & stretch & condition & height\\\\\n",
       "\\hline\n",
       "\t 1     & 1     & 1     & 32.76\\\\\n",
       "\t 2     & 1     & 1     & 32.67\\\\\n",
       "\t 3     & 1     & 1     & 23.04\\\\\n",
       "\t 4     & 1     & 1     & 45.63\\\\\n",
       "\t 5     & 1     & 1     & 29.29\\\\\n",
       "\t 6     & 1     & 2     & 28.90\\\\\n",
       "\\end{tabular}\n"
      ],
      "text/markdown": [
       "\n",
       "| dancer | stretch | condition | height |\n",
       "|---|---|---|---|\n",
       "| 1     | 1     | 1     | 32.76 |\n",
       "| 2     | 1     | 1     | 32.67 |\n",
       "| 3     | 1     | 1     | 23.04 |\n",
       "| 4     | 1     | 1     | 45.63 |\n",
       "| 5     | 1     | 1     | 29.29 |\n",
       "| 6     | 1     | 2     | 28.90 |\n",
       "\n"
      ],
      "text/plain": [
       "  dancer stretch condition height\n",
       "1 1      1       1         32.76 \n",
       "2 2      1       1         32.67 \n",
       "3 3      1       1         23.04 \n",
       "4 4      1       1         45.63 \n",
       "5 5      1       1         29.29 \n",
       "6 6      1       2         28.90 "
      ]
     },
     "metadata": {},
     "output_type": "display_data"
    }
   ],
   "source": [
    "library(tidyverse)\n",
    "library(dplyr)\n",
    "\n",
    "dance = read.table(\"http://users.stat.ufl.edu/~winner/data/dancer_warmup.dat\", sep = \"\")\n",
    "names(dance) = c(\"stretch\", \"dancer\", \"height\")\n",
    "dance = dance %>%\n",
    "    mutate(condition = ifelse(dancer == 1 | dancer == 2 | dancer == 3 | dancer == 4 |\n",
    "                              dancer == 5, 1,2))%>%\n",
    "    select(dancer, stretch, condition, height) %>%\n",
    "    mutate(stretch = as.factor(stretch), dancer = as.factor(dancer), condition = as.factor(condition))\n",
    "\n",
    "head(dance)\n"
   ]
  },
  {
   "cell_type": "markdown",
   "metadata": {
    "deletable": false,
    "editable": false,
    "nbgrader": {
     "cell_type": "markdown",
     "checksum": "061ee3a92abf80ac329752bd2b4654ba",
     "grade": false,
     "grade_id": "cell-850c33ae63f3da4f",
     "locked": true,
     "schema_version": 3,
     "solution": false,
     "task": false
    }
   },
   "source": [
    "#### (a) Produce interaction plots to detect whether there are interactions between ${\\tt stretch}$ and ${\\tt condition}$."
   ]
  },
  {
   "cell_type": "code",
   "execution_count": 23,
   "metadata": {
    "deletable": false,
    "nbgrader": {
     "cell_type": "code",
     "checksum": "a2ba93fa46639c24de4a9180afac2068",
     "grade": true,
     "grade_id": "cell-5bd2cc1dd4636af5",
     "locked": false,
     "points": 1,
     "schema_version": 3,
     "solution": true,
     "task": false
    }
   },
   "outputs": [
    {
     "data": {
      "image/png": "[encoded data removed]",
      "text/plain": [
       "plot without title"
      ]
     },
     "metadata": {},
     "output_type": "display_data"
    }
   ],
   "source": [
    "interaction.plot(dance$stretch, dance$condition, dance$height)"
   ]
  },
  {
   "cell_type": "markdown",
   "metadata": {
    "deletable": false,
    "nbgrader": {
     "cell_type": "code",
     "checksum": "898b92574e9466fe1a8ffece61b16848",
     "grade": true,
     "grade_id": "cell-8996a7c0d153edb7",
     "locked": false,
     "points": 1,
     "schema_version": 3,
     "solution": true,
     "task": false
    }
   },
   "source": [
    "The slopes of interaction plot lines are close to parallel so the interaction term is likely insignificant"
   ]
  },
  {
   "cell_type": "markdown",
   "metadata": {
    "deletable": false,
    "editable": false,
    "nbgrader": {
     "cell_type": "markdown",
     "checksum": "19d4740a1337e2cd29f244555ed9bbc3",
     "grade": false,
     "grade_id": "cell-a60a0e1e575c95dd",
     "locked": true,
     "schema_version": 3,
     "solution": false,
     "task": false
    }
   },
   "source": [
    "#### (b) Conduct a formal analysis to decide whether:\n",
    "\n",
    "1. there is a statistically significant interaction between ${\\tt stretch}$ and ${\\tt condition}$. **(Store the model *with interaction* term as rcbd_int, and *without an interaction* as rcbd.)**\n",
    "\n",
    "2. stretching protocol impacts vertical jump height. **(Store the model that you use for this analyis as rcbd_final.)**\n",
    "\n",
    "Be sure to clearly interpret the code output."
   ]
  },
  {
   "cell_type": "code",
   "execution_count": 25,
   "metadata": {
    "deletable": false,
    "nbgrader": {
     "cell_type": "code",
     "checksum": "3f705e3379e9b886970621330b56de08",
     "grade": false,
     "grade_id": "cell-8ef3f6df1a368c4e",
     "locked": false,
     "schema_version": 3,
     "solution": true,
     "task": false
    }
   },
   "outputs": [
    {
     "data": {
      "text/plain": [
       "\n",
       "Call:\n",
       "lm(formula = height ~ stretch + condition, data = dance)\n",
       "\n",
       "Residuals:\n",
       "     Min       1Q   Median       3Q      Max \n",
       "-15.2235  -3.4005  -0.1455   6.4913  12.9655 \n",
       "\n",
       "Coefficients:\n",
       "            Estimate Std. Error t value Pr(>|t|)    \n",
       "(Intercept)   32.666      2.867  11.392 2.52e-13 ***\n",
       "stretch2       3.420      3.627   0.943 0.352178    \n",
       "stretch3       3.039      3.627   0.838 0.407779    \n",
       "stretch4      -0.251      3.627  -0.069 0.945221    \n",
       "condition2    10.689      2.565   4.168 0.000192 ***\n",
       "---\n",
       "Signif. codes:  0 '***' 0.001 '**' 0.01 '*' 0.05 '.' 0.1 ' ' 1\n",
       "\n",
       "Residual standard error: 8.11 on 35 degrees of freedom\n",
       "Multiple R-squared:  0.353,\tAdjusted R-squared:  0.2791 \n",
       "F-statistic: 4.774 on 4 and 35 DF,  p-value: 0.00352\n"
      ]
     },
     "metadata": {},
     "output_type": "display_data"
    },
    {
     "data": {
      "text/plain": [
       "\n",
       "Call:\n",
       "lm(formula = height ~ stretch + condition + stretch:condition, \n",
       "    data = dance)\n",
       "\n",
       "Residuals:\n",
       "    Min      1Q  Median      3Q     Max \n",
       "-15.124  -3.092   0.037   6.742  12.952 \n",
       "\n",
       "Coefficients:\n",
       "                    Estimate Std. Error t value Pr(>|t|)    \n",
       "(Intercept)           32.678      3.790   8.622 7.48e-10 ***\n",
       "stretch2               2.926      5.360   0.546   0.5889    \n",
       "stretch3               3.126      5.360   0.583   0.5638    \n",
       "stretch4               0.106      5.360   0.020   0.9843    \n",
       "condition2            10.664      5.360   1.990   0.0552 .  \n",
       "stretch2:condition2    0.988      7.580   0.130   0.8971    \n",
       "stretch3:condition2   -0.174      7.580  -0.023   0.9818    \n",
       "stretch4:condition2   -0.714      7.580  -0.094   0.9255    \n",
       "---\n",
       "Signif. codes:  0 '***' 0.001 '**' 0.01 '*' 0.05 '.' 0.1 ' ' 1\n",
       "\n",
       "Residual standard error: 8.475 on 32 degrees of freedom\n",
       "Multiple R-squared:  0.3541,\tAdjusted R-squared:  0.2128 \n",
       "F-statistic: 2.506 on 7 and 32 DF,  p-value: 0.03579\n"
      ]
     },
     "metadata": {},
     "output_type": "display_data"
    },
    {
     "data": {
      "text/html": [
       "<table>\n",
       "<thead><tr><th scope=col>Res.Df</th><th scope=col>RSS</th><th scope=col>Df</th><th scope=col>Sum of Sq</th><th scope=col>F</th><th scope=col>Pr(&gt;F)</th></tr></thead>\n",
       "<tbody>\n",
       "\t<tr><td>32        </td><td>2298.329  </td><td>NA        </td><td>      NA  </td><td>        NA</td><td>       NA </td></tr>\n",
       "\t<tr><td>35        </td><td>2302.113  </td><td>-3        </td><td>-3.78429  </td><td>0.01756309</td><td>0.9967649 </td></tr>\n",
       "</tbody>\n",
       "</table>\n"
      ],
      "text/latex": [
       "\\begin{tabular}{r|llllll}\n",
       " Res.Df & RSS & Df & Sum of Sq & F & Pr(>F)\\\\\n",
       "\\hline\n",
       "\t 32         & 2298.329   & NA         &       NA   &         NA &        NA \\\\\n",
       "\t 35         & 2302.113   & -3         & -3.78429   & 0.01756309 & 0.9967649 \\\\\n",
       "\\end{tabular}\n"
      ],
      "text/markdown": [
       "\n",
       "| Res.Df | RSS | Df | Sum of Sq | F | Pr(>F) |\n",
       "|---|---|---|---|---|---|\n",
       "| 32         | 2298.329   | NA         |       NA   |         NA |        NA  |\n",
       "| 35         | 2302.113   | -3         | -3.78429   | 0.01756309 | 0.9967649  |\n",
       "\n"
      ],
      "text/plain": [
       "  Res.Df RSS      Df Sum of Sq F          Pr(>F)   \n",
       "1 32     2298.329 NA       NA          NA        NA\n",
       "2 35     2302.113 -3 -3.78429  0.01756309 0.9967649"
      ]
     },
     "metadata": {},
     "output_type": "display_data"
    }
   ],
   "source": [
    "rcbd = lm(data = dance, height ~ stretch + condition)\n",
    "summary(rcbd)\n",
    "rcbd_int = lm(data = dance, height ~ stretch + condition + stretch:condition)\n",
    "summary(rcbd_int)\n",
    "anova(rcbd_int, rcbd)"
   ]
  },
  {
   "cell_type": "code",
   "execution_count": 26,
   "metadata": {},
   "outputs": [],
   "source": [
    "rcbd_final = rcbd"
   ]
  },
  {
   "cell_type": "markdown",
   "metadata": {},
   "source": [
    "The intial diagonstic plot correctly showed us that the interaction term is not significant. Both linear models are shown above and the blocking variable, condition is the only indivual t-test that is significant at the 95% confidence level. This is unsuprising because the blocking variable is usually chosen for theoretical concerns, and we are unsuprised that more conditioned dancers have a greater ability dance well. The ANOVA test shows us that the F-stat is above 0.05 so we should fail to reject the NULL: The reduced model is sufficent"
   ]
  },
  {
   "cell_type": "code",
   "execution_count": null,
   "metadata": {
    "deletable": false,
    "editable": false,
    "nbgrader": {
     "cell_type": "code",
     "checksum": "bf23926507a1b33ae5cb493de118766b",
     "grade": true,
     "grade_id": "cell-fcc1f50024c9406c",
     "locked": true,
     "points": 0,
     "schema_version": 3,
     "solution": false,
     "task": false
    }
   },
   "outputs": [],
   "source": []
  },
  {
   "cell_type": "markdown",
   "metadata": {},
   "source": [
    "The p-value in the last table is large ($p \\approx 0.99$). This p-value comes from an F-test that compared the regression/ANOVA models with and without an interaction term. Thus the interaction term is not statistically significant. "
   ]
  },
  {
   "cell_type": "code",
   "execution_count": 27,
   "metadata": {},
   "outputs": [
    {
     "data": {
      "text/html": [
       "<table>\n",
       "<thead><tr><th></th><th scope=col>Df</th><th scope=col>Sum Sq</th><th scope=col>Mean Sq</th><th scope=col>F value</th><th scope=col>Pr(&gt;F)</th></tr></thead>\n",
       "<tbody>\n",
       "\t<tr><th scope=row>stretch</th><td> 3          </td><td> 113.6011   </td><td>  37.86702  </td><td> 0.5757083  </td><td>0.6348088114</td></tr>\n",
       "\t<tr><th scope=row>condition</th><td> 1          </td><td>1142.5472   </td><td>1142.54721  </td><td>17.3706269  </td><td>0.0001916087</td></tr>\n",
       "\t<tr><th scope=row>Residuals</th><td>35          </td><td>2302.1134   </td><td>  65.77467  </td><td>        NA  </td><td>          NA</td></tr>\n",
       "</tbody>\n",
       "</table>\n"
      ],
      "text/latex": [
       "\\begin{tabular}{r|lllll}\n",
       "  & Df & Sum Sq & Mean Sq & F value & Pr(>F)\\\\\n",
       "\\hline\n",
       "\tstretch &  3           &  113.6011    &   37.86702   &  0.5757083   & 0.6348088114\\\\\n",
       "\tcondition &  1           & 1142.5472    & 1142.54721   & 17.3706269   & 0.0001916087\\\\\n",
       "\tResiduals & 35           & 2302.1134    &   65.77467   &         NA   &           NA\\\\\n",
       "\\end{tabular}\n"
      ],
      "text/markdown": [
       "\n",
       "| <!--/--> | Df | Sum Sq | Mean Sq | F value | Pr(>F) |\n",
       "|---|---|---|---|---|---|\n",
       "| stretch |  3           |  113.6011    |   37.86702   |  0.5757083   | 0.6348088114 |\n",
       "| condition |  1           | 1142.5472    | 1142.54721   | 17.3706269   | 0.0001916087 |\n",
       "| Residuals | 35           | 2302.1134    |   65.77467   |         NA   |           NA |\n",
       "\n"
      ],
      "text/plain": [
       "          Df Sum Sq    Mean Sq    F value    Pr(>F)      \n",
       "stretch    3  113.6011   37.86702  0.5757083 0.6348088114\n",
       "condition  1 1142.5472 1142.54721 17.3706269 0.0001916087\n",
       "Residuals 35 2302.1134   65.77467         NA           NA"
      ]
     },
     "metadata": {},
     "output_type": "display_data"
    }
   ],
   "source": [
    "anova(rcbd)"
   ]
  },
  {
   "cell_type": "code",
   "execution_count": 29,
   "metadata": {
    "deletable": false,
    "nbgrader": {
     "cell_type": "code",
     "checksum": "405848d9673dbcdcc7264a36ec71875e",
     "grade": false,
     "grade_id": "cell-11d42234f92deca3",
     "locked": false,
     "schema_version": 3,
     "solution": true,
     "task": false
    }
   },
   "outputs": [
    {
     "data": {
      "text/html": [
       "<table>\n",
       "<thead><tr><th scope=col>Res.Df</th><th scope=col>RSS</th><th scope=col>Df</th><th scope=col>Sum of Sq</th><th scope=col>F</th><th scope=col>Pr(&gt;F)</th></tr></thead>\n",
       "<tbody>\n",
       "\t<tr><td>35       </td><td>2302.113 </td><td>NA       </td><td>       NA</td><td>       NA</td><td>       NA</td></tr>\n",
       "\t<tr><td>38       </td><td>2415.714 </td><td>-3       </td><td>-113.6011</td><td>0.5757083</td><td>0.6348088</td></tr>\n",
       "</tbody>\n",
       "</table>\n"
      ],
      "text/latex": [
       "\\begin{tabular}{r|llllll}\n",
       " Res.Df & RSS & Df & Sum of Sq & F & Pr(>F)\\\\\n",
       "\\hline\n",
       "\t 35        & 2302.113  & NA        &        NA &        NA &        NA\\\\\n",
       "\t 38        & 2415.714  & -3        & -113.6011 & 0.5757083 & 0.6348088\\\\\n",
       "\\end{tabular}\n"
      ],
      "text/markdown": [
       "\n",
       "| Res.Df | RSS | Df | Sum of Sq | F | Pr(>F) |\n",
       "|---|---|---|---|---|---|\n",
       "| 35        | 2302.113  | NA        |        NA |        NA |        NA |\n",
       "| 38        | 2415.714  | -3        | -113.6011 | 0.5757083 | 0.6348088 |\n",
       "\n"
      ],
      "text/plain": [
       "  Res.Df RSS      Df Sum of Sq F         Pr(>F)   \n",
       "1 35     2302.113 NA        NA        NA        NA\n",
       "2 38     2415.714 -3 -113.6011 0.5757083 0.6348088"
      ]
     },
     "metadata": {},
     "output_type": "display_data"
    }
   ],
   "source": [
    "rcbd_red = lm(data = dance, height ~ condition)\n",
    "anova(rcbd, rcbd_red)"
   ]
  },
  {
   "cell_type": "code",
   "execution_count": null,
   "metadata": {
    "deletable": false,
    "editable": false,
    "nbgrader": {
     "cell_type": "code",
     "checksum": "36ea22354142109e0aba938848701f3a",
     "grade": true,
     "grade_id": "cell-662b5d9b39f5c781",
     "locked": true,
     "points": 0,
     "schema_version": 3,
     "solution": false,
     "task": false
    }
   },
   "outputs": [],
   "source": []
  },
  {
   "cell_type": "markdown",
   "metadata": {
    "deletable": false,
    "nbgrader": {
     "cell_type": "markdown",
     "checksum": "e32893aaa4f0b8734cec36eb98017a87",
     "grade": true,
     "grade_id": "cell-7c3356abf0361a89",
     "locked": false,
     "points": 0,
     "schema_version": 3,
     "solution": true,
     "task": false
    }
   },
   "source": [
    "based on the ANOVA for the reduced model we can see that our blocking variable has a p-value below 0.05 so it should be kept in the model. The p-value for stretching is greater than 0.05 and so we ran an ANOVA with a reduced model where only the blocking variable was included and the reduced model appears to sufficent."
   ]
  },
  {
   "cell_type": "markdown",
   "metadata": {
    "deletable": false,
    "editable": false,
    "nbgrader": {
     "cell_type": "markdown",
     "checksum": "5a520c6f5cba25f4b1052fdaee50902f",
     "grade": false,
     "grade_id": "cell-84a1c2ebe944bc13",
     "locked": true,
     "schema_version": 3,
     "solution": false,
     "task": false
    }
   },
   "source": [
    "#### (c) What can be said about the causal relationship between stretching routines and vertical jump height?"
   ]
  },
  {
   "cell_type": "markdown",
   "metadata": {
    "deletable": false,
    "nbgrader": {
     "cell_type": "markdown",
     "checksum": "7a0ed973fda73589aefe8ca092b9c96c",
     "grade": true,
     "grade_id": "cell-9d7e3769c794109a",
     "locked": false,
     "points": 0,
     "schema_version": 3,
     "solution": true,
     "task": false
    }
   },
   "source": [
    "Based on our ANOVA tests we will fail to reject the NULL: stretching and vertical jump are uncorrelated. With correlation causation cannot be established"
   ]
  },
  {
   "cell_type": "markdown",
   "metadata": {
    "deletable": false,
    "editable": false,
    "nbgrader": {
     "cell_type": "markdown",
     "checksum": "381dc14d598f921cdc185f8bd249d859",
     "grade": false,
     "grade_id": "cell-bb121c5833bb5c93",
     "locked": true,
     "schema_version": 3,
     "solution": false,
     "task": false
    }
   },
   "source": [
    "### Problem B.3\n",
    "\n",
    "#### (a) The morley data can be viewed as a randomized block experiment with Run as the treatment factor and Expt as the blocking factor. Is there a difference between runs? Store your model as lmod. \n",
    "\n",
    "(Information about this dataset can be found [here](https://www.rdocumentation.org/packages/datasets/versions/3.6.2/topics/morley).)"
   ]
  },
  {
   "cell_type": "code",
   "execution_count": 40,
   "metadata": {
    "deletable": false,
    "editable": false,
    "nbgrader": {
     "cell_type": "code",
     "checksum": "27024c4cd03af379652378d66be6ccb8",
     "grade": false,
     "grade_id": "cell-f9a9f95159ca10b3",
     "locked": true,
     "schema_version": 3,
     "solution": false,
     "task": false
    }
   },
   "outputs": [
    {
     "data": {
      "text/html": [
       "<table>\n",
       "<thead><tr><th></th><th scope=col>Expt</th><th scope=col>Run</th><th scope=col>Speed</th></tr></thead>\n",
       "<tbody>\n",
       "\t<tr><th scope=row>001</th><td>1   </td><td>1   </td><td> 850</td></tr>\n",
       "\t<tr><th scope=row>002</th><td>1   </td><td>2   </td><td> 740</td></tr>\n",
       "\t<tr><th scope=row>003</th><td>1   </td><td>3   </td><td> 900</td></tr>\n",
       "\t<tr><th scope=row>004</th><td>1   </td><td>4   </td><td>1070</td></tr>\n",
       "\t<tr><th scope=row>005</th><td>1   </td><td>5   </td><td> 930</td></tr>\n",
       "\t<tr><th scope=row>006</th><td>1   </td><td>6   </td><td> 850</td></tr>\n",
       "</tbody>\n",
       "</table>\n"
      ],
      "text/latex": [
       "\\begin{tabular}{r|lll}\n",
       "  & Expt & Run & Speed\\\\\n",
       "\\hline\n",
       "\t001 & 1    & 1    &  850\\\\\n",
       "\t002 & 1    & 2    &  740\\\\\n",
       "\t003 & 1    & 3    &  900\\\\\n",
       "\t004 & 1    & 4    & 1070\\\\\n",
       "\t005 & 1    & 5    &  930\\\\\n",
       "\t006 & 1    & 6    &  850\\\\\n",
       "\\end{tabular}\n"
      ],
      "text/markdown": [
       "\n",
       "| <!--/--> | Expt | Run | Speed |\n",
       "|---|---|---|---|\n",
       "| 001 | 1    | 1    |  850 |\n",
       "| 002 | 1    | 2    |  740 |\n",
       "| 003 | 1    | 3    |  900 |\n",
       "| 004 | 1    | 4    | 1070 |\n",
       "| 005 | 1    | 5    |  930 |\n",
       "| 006 | 1    | 6    |  850 |\n",
       "\n"
      ],
      "text/plain": [
       "    Expt Run Speed\n",
       "001 1    1    850 \n",
       "002 1    2    740 \n",
       "003 1    3    900 \n",
       "004 1    4   1070 \n",
       "005 1    5    930 \n",
       "006 1    6    850 "
      ]
     },
     "metadata": {},
     "output_type": "display_data"
    }
   ],
   "source": [
    "data(morley)\n",
    "head(morley)\n",
    "morley$Expt = as.factor(morley$Expt)\n",
    "morley$Run = as.factor(morley$Run)\n"
   ]
  },
  {
   "cell_type": "code",
   "execution_count": 41,
   "metadata": {
    "deletable": false,
    "nbgrader": {
     "cell_type": "code",
     "checksum": "31875a639be10faf1770a5b28dd45637",
     "grade": false,
     "grade_id": "cell-f7a501edbd633e3d",
     "locked": false,
     "schema_version": 3,
     "solution": true,
     "task": false
    }
   },
   "outputs": [
    {
     "data": {
      "text/html": [
       "<table>\n",
       "<thead><tr><th></th><th scope=col>Df</th><th scope=col>Sum Sq</th><th scope=col>Mean Sq</th><th scope=col>F value</th><th scope=col>Pr(&gt;F)</th></tr></thead>\n",
       "<tbody>\n",
       "\t<tr><th scope=row>Expt</th><td> 4         </td><td> 94514     </td><td>23628.500  </td><td>4.378144   </td><td>0.003070589</td></tr>\n",
       "\t<tr><th scope=row>Run</th><td>19         </td><td>113344     </td><td> 5965.474  </td><td>1.105348   </td><td>0.363209341</td></tr>\n",
       "\t<tr><th scope=row>Residuals</th><td>76         </td><td>410166     </td><td> 5396.921  </td><td>      NA   </td><td>         NA</td></tr>\n",
       "</tbody>\n",
       "</table>\n"
      ],
      "text/latex": [
       "\\begin{tabular}{r|lllll}\n",
       "  & Df & Sum Sq & Mean Sq & F value & Pr(>F)\\\\\n",
       "\\hline\n",
       "\tExpt &  4          &  94514      & 23628.500   & 4.378144    & 0.003070589\\\\\n",
       "\tRun & 19          & 113344      &  5965.474   & 1.105348    & 0.363209341\\\\\n",
       "\tResiduals & 76          & 410166      &  5396.921   &       NA    &          NA\\\\\n",
       "\\end{tabular}\n"
      ],
      "text/markdown": [
       "\n",
       "| <!--/--> | Df | Sum Sq | Mean Sq | F value | Pr(>F) |\n",
       "|---|---|---|---|---|---|\n",
       "| Expt |  4          |  94514      | 23628.500   | 4.378144    | 0.003070589 |\n",
       "| Run | 19          | 113344      |  5965.474   | 1.105348    | 0.363209341 |\n",
       "| Residuals | 76          | 410166      |  5396.921   |       NA    |          NA |\n",
       "\n"
      ],
      "text/plain": [
       "          Df Sum Sq Mean Sq   F value  Pr(>F)     \n",
       "Expt       4  94514 23628.500 4.378144 0.003070589\n",
       "Run       19 113344  5965.474 1.105348 0.363209341\n",
       "Residuals 76 410166  5396.921       NA          NA"
      ]
     },
     "metadata": {},
     "output_type": "display_data"
    }
   ],
   "source": [
    "lmod = lm(data = morley, Speed ~ Expt + Run)\n",
    "anova(lmod)"
   ]
  },
  {
   "cell_type": "code",
   "execution_count": null,
   "metadata": {
    "deletable": false,
    "editable": false,
    "nbgrader": {
     "cell_type": "code",
     "checksum": "7e907cac6cb9e92962a5512c7764fea6",
     "grade": true,
     "grade_id": "cell-4c55324751eb7fbd",
     "locked": true,
     "points": 1,
     "schema_version": 3,
     "solution": false,
     "task": false
    }
   },
   "outputs": [],
   "source": []
  },
  {
   "cell_type": "markdown",
   "metadata": {
    "deletable": false,
    "nbgrader": {
     "cell_type": "markdown",
     "checksum": "3e0bf28be41e4256883d6a21944ac859",
     "grade": true,
     "grade_id": "cell-34349f7c19540947",
     "locked": false,
     "points": 1,
     "schema_version": 3,
     "solution": true,
     "task": false
    }
   },
   "source": [
    "Our blocking variable, Expt, has a p-value below 0.05 so we need to keep it in our model. The Run variable does not so we cannot conclude that Run and Speed are corellated"
   ]
  },
  {
   "cell_type": "markdown",
   "metadata": {
    "deletable": false,
    "editable": false,
    "nbgrader": {
     "cell_type": "markdown",
     "checksum": "9a56046fd765d1e60ce3f1b94347f100",
     "grade": false,
     "grade_id": "cell-060b16ea7683360c",
     "locked": true,
     "schema_version": 3,
     "solution": false,
     "task": false
    }
   },
   "source": [
    "#### (b) What is the relative efficiency? Store your answer in a variable called e.\n",
    "\n",
    "Relative efficiency is defined as \n",
    "\n",
    "$$e = \\widehat\\sigma^2_{CRD}\\bigg/\\widehat\\sigma^2_{RCBD}, $$\n",
    "\n",
    "and it tells us how many more observations would be needed in a CRD to obtain the same level of precision as a RCBD. For example, if $e = 1.66$, then a CRD would require 66% more observations to obtain the same level of precision as an RCBD."
   ]
  },
  {
   "cell_type": "code",
   "execution_count": 45,
   "metadata": {
    "deletable": false,
    "nbgrader": {
     "cell_type": "code",
     "checksum": "bfb12bce1dbdec70daf0d11b857297f8",
     "grade": false,
     "grade_id": "cell-5296593a1f356ecc",
     "locked": false,
     "schema_version": 3,
     "solution": true,
     "task": false
    }
   },
   "outputs": [
    {
     "data": {
      "text/plain": [
       "Call:\n",
       "   aov(formula = lmod2)\n",
       "\n",
       "Terms:\n",
       "                   Run Residuals\n",
       "Sum of Squares  113344    504680\n",
       "Deg. of Freedom     19        80\n",
       "\n",
       "Residual standard error: 79.42607\n",
       "Estimated effects may be unbalanced"
      ]
     },
     "metadata": {},
     "output_type": "display_data"
    },
    {
     "data": {
      "text/plain": [
       "Call:\n",
       "   aov(formula = lmod)\n",
       "\n",
       "Terms:\n",
       "                  Expt    Run Residuals\n",
       "Sum of Squares   94514 113344    410166\n",
       "Deg. of Freedom      4     19        76\n",
       "\n",
       "Residual standard error: 73.46374\n",
       "Estimated effects may be unbalanced"
      ]
     },
     "metadata": {},
     "output_type": "display_data"
    }
   ],
   "source": [
    "lmod2 = lm(data = morley, Speed ~ Run)\n",
    "aov(lmod2)\n",
    "aov(lmod)"
   ]
  },
  {
   "cell_type": "code",
   "execution_count": 47,
   "metadata": {},
   "outputs": [
    {
     "data": {
      "text/html": [
       "1.16890732416631"
      ],
      "text/latex": [
       "1.16890732416631"
      ],
      "text/markdown": [
       "1.16890732416631"
      ],
      "text/plain": [
       "[1] 1.168907"
      ]
     },
     "metadata": {},
     "output_type": "display_data"
    }
   ],
   "source": [
    "(79.42607/73.46374)^2"
   ]
  },
  {
   "cell_type": "code",
   "execution_count": null,
   "metadata": {
    "deletable": false,
    "editable": false,
    "nbgrader": {
     "cell_type": "code",
     "checksum": "1276730cfd323e679e5c637ed0c4600d",
     "grade": true,
     "grade_id": "cell-49c84582e48002f3",
     "locked": true,
     "points": 1,
     "schema_version": 3,
     "solution": false,
     "task": false
    }
   },
   "outputs": [],
   "source": []
  },
  {
   "cell_type": "markdown",
   "metadata": {
    "deletable": false,
    "nbgrader": {
     "cell_type": "markdown",
     "checksum": "2796c8d9f1d726c5cdd5dd356b578d0f",
     "grade": true,
     "grade_id": "cell-7538d22012c4dd9b",
     "locked": false,
     "points": 1,
     "schema_version": 3,
     "solution": true,
     "task": false
    }
   },
   "source": [
    "We can conclude that the RCBD is 16.9% more efficient"
   ]
  },
  {
   "cell_type": "code",
   "execution_count": null,
   "metadata": {},
   "outputs": [],
   "source": []
  }
 ],
 "metadata": {
  "kernelspec": {
   "display_name": "R",
   "language": "R",
   "name": "ir"
  },
  "language_info": {
   "codemirror_mode": "r",
   "file_extension": ".r",
   "mimetype": "text/x-r-source",
   "name": "R",
   "pygments_lexer": "r",
   "version": "3.6.1"
  }
 },
 "nbformat": 4,
 "nbformat_minor": 2
}
